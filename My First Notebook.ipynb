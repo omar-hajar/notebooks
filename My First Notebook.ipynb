{
    "cells": [
        {
            "cell_type": "markdown",
            "metadata": {},
            "source": "# My Jupyter Notebook on IBM Data Science Experience (Watson Studio)"
        },
        {
            "cell_type": "markdown",
            "metadata": {},
            "source": "__Omar Hajar__"
        },
        {
            "cell_type": "markdown",
            "metadata": {},
            "source": "Data Scientist"
        },
        {
            "cell_type": "markdown",
            "metadata": {},
            "source": "_I am interested in data science because there are so many industries that will need data scientist now and in the future.\nSo there will potentially be many opportunities for good job prospects._"
        },
        {
            "cell_type": "markdown",
            "metadata": {},
            "source": "### The following code will add the numbers 5 + 5."
        },
        {
            "cell_type": "code",
            "execution_count": 3,
            "metadata": {},
            "outputs": [
                {
                    "data": {
                        "text/plain": "10"
                    },
                    "execution_count": 3,
                    "metadata": {},
                    "output_type": "execute_result"
                }
            ],
            "source": "5 + 5"
        },
        {
            "cell_type": "markdown",
            "metadata": {},
            "source": "~~Scratch This~~"
        },
        {
            "cell_type": "markdown",
            "metadata": {},
            "source": "[IBM's Homepage](https://www.ibm.com)"
        },
        {
            "cell_type": "markdown",
            "metadata": {},
            "source": "+ Relaxing Bear Image"
        },
        {
            "cell_type": "markdown",
            "metadata": {},
            "source": "![alt text](https://images.unsplash.com/photo-1530595467537-0b5996c41f2d?ixlib=rb-1.2.1&ixid=eyJhcHBfaWQiOjEyMDd9&auto=format&fit=crop&w=1050&q=80)"
        },
        {
            "cell_type": "code",
            "execution_count": null,
            "metadata": {},
            "outputs": [],
            "source": ""
        }
    ],
    "metadata": {
        "kernelspec": {
            "display_name": "Python 3.6",
            "language": "python",
            "name": "python3"
        },
        "language_info": {
            "codemirror_mode": {
                "name": "ipython",
                "version": 3
            },
            "file_extension": ".py",
            "mimetype": "text/x-python",
            "name": "python",
            "nbconvert_exporter": "python",
            "pygments_lexer": "ipython3",
            "version": "3.6.9"
        }
    },
    "nbformat": 4,
    "nbformat_minor": 1
}